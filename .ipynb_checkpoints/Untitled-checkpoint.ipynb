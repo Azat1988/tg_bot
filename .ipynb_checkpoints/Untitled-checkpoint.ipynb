{
 "cells": [
  {
   "cell_type": "code",
   "execution_count": null,
   "id": "d30b7821",
   "metadata": {},
   "outputs": [],
   "source": [
    "from aiogram import Bot, types\n",
    "from aiogram.dispetcher import Dispetcher\n",
    "from aiogram.utils import executor\n",
    "\n",
    "import os\n",
    "\n",
    "bot = Bot(token=os.getenv('TOKEN'))\n",
    "dp = Dispetcher(bot)\n",
    "\n",
    "@dp.message__handler()\n",
    "async def echo_send(message : types.Message):\n",
    "    # ответ туда куда было написано сообщение\n",
    "    #await message.answer (message.text)\n",
    "    # ответ с указанием сообщения на которое отвечаем\n",
    "    #await message.reply (message.text)\n",
    "    # ответ в личку\n",
    "    await bot.send_message(message.from_user.id, message.text)\n",
    "\n",
    "executor.start_polling(dp, skip_updates=True)"
   ]
  }
 ],
 "metadata": {
  "kernelspec": {
   "display_name": "Python 3 (ipykernel)",
   "language": "python",
   "name": "python3"
  },
  "language_info": {
   "codemirror_mode": {
    "name": "ipython",
    "version": 3
   },
   "file_extension": ".py",
   "mimetype": "text/x-python",
   "name": "python",
   "nbconvert_exporter": "python",
   "pygments_lexer": "ipython3",
   "version": "3.10.4"
  }
 },
 "nbformat": 4,
 "nbformat_minor": 5
}
