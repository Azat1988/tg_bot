{
 "cells": [
  {
   "cell_type": "code",
   "execution_count": 1,
   "id": "d30b7821",
   "metadata": {},
   "outputs": [
    {
     "ename": "ModuleNotFoundError",
     "evalue": "No module named 'aiogram'",
     "output_type": "error",
     "traceback": [
      "\u001b[1;31m---------------------------------------------------------------------------\u001b[0m",
      "\u001b[1;31mModuleNotFoundError\u001b[0m                       Traceback (most recent call last)",
      "Input \u001b[1;32mIn [1]\u001b[0m, in \u001b[0;36m<cell line: 1>\u001b[1;34m()\u001b[0m\n\u001b[1;32m----> 1\u001b[0m \u001b[38;5;28;01mfrom\u001b[39;00m \u001b[38;5;21;01maiogram\u001b[39;00m \u001b[38;5;28;01mimport\u001b[39;00m Bot, types\n\u001b[0;32m      2\u001b[0m \u001b[38;5;28;01mfrom\u001b[39;00m \u001b[38;5;21;01maiogram\u001b[39;00m\u001b[38;5;21;01m.\u001b[39;00m\u001b[38;5;21;01mdispetcher\u001b[39;00m \u001b[38;5;28;01mimport\u001b[39;00m Dispetcher\n\u001b[0;32m      3\u001b[0m \u001b[38;5;28;01mfrom\u001b[39;00m \u001b[38;5;21;01maiogram\u001b[39;00m\u001b[38;5;21;01m.\u001b[39;00m\u001b[38;5;21;01mutils\u001b[39;00m \u001b[38;5;28;01mimport\u001b[39;00m executor\n",
      "\u001b[1;31mModuleNotFoundError\u001b[0m: No module named 'aiogram'"
     ]
    }
   ],
   "source": [
    "from aiogram import Bot, types\n",
    "from aiogram.dispatcher import Dispatcher\n",
    "from aiogram.utils import executor\n",
    "\n",
    "import os\n",
    "\n",
    "bot = Bot(token=os.getenv('TOKEN'))\n",
    "dp = Dispatcher(bot)\n",
    "\n",
    "@dp.message__handler()\n",
    "async def echo_send(message : types.Message):\n",
    "    # ответ туда куда было написано сообщение\n",
    "    #await message.answer (message.text)\n",
    "    # ответ с указанием сообщения на которое отвечаем\n",
    "    #await message.reply (message.text)\n",
    "    # ответ в личку\n",
    "    await bot.send_message(message.from_user.id, message.text)\n",
    "\n",
    "executor.start_polling(dp, skip_updates=True)"
   ]
  }
 ],
 "metadata": {
  "kernelspec": {
   "display_name": "Python 3 (ipykernel)",
   "language": "python",
   "name": "python3"
  },
  "language_info": {
   "codemirror_mode": {
    "name": "ipython",
    "version": 3
   },
   "file_extension": ".py",
   "mimetype": "text/x-python",
   "name": "python",
   "nbconvert_exporter": "python",
   "pygments_lexer": "ipython3",
   "version": "3.10.4"
  }
 },
 "nbformat": 4,
 "nbformat_minor": 5
}
